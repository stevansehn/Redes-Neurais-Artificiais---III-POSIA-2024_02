{
  "nbformat": 4,
  "nbformat_minor": 0,
  "metadata": {
    "colab": {
      "provenance": [],
      "include_colab_link": true
    },
    "kernelspec": {
      "name": "python3",
      "display_name": "Python 3"
    },
    "language_info": {
      "name": "python"
    }
  },
  "cells": [
    {
      "cell_type": "markdown",
      "metadata": {
        "id": "view-in-github",
        "colab_type": "text"
      },
      "source": [
        "<a href=\"https://colab.research.google.com/github/stevansehn/Redes-Neurais-Artificiais---III-POSIA-2024_02/blob/main/Stevan_Sehn___Tarefa_2_Pratica_Bloco_2.ipynb\" target=\"_parent\"><img src=\"https://colab.research.google.com/assets/colab-badge.svg\" alt=\"Open In Colab\"/></a>"
      ]
    },
    {
      "cell_type": "markdown",
      "source": [
        "## Adaline - Implementação e Teste do Algoritmo"
      ],
      "metadata": {
        "id": "D0bXv-4iFWay"
      }
    },
    {
      "cell_type": "markdown",
      "source": [
        "Importação das Bibliotecas"
      ],
      "metadata": {
        "id": "mnZ6i71nhFl9"
      }
    },
    {
      "cell_type": "code",
      "execution_count": 2,
      "metadata": {
        "colab": {
          "base_uri": "https://localhost:8080/",
          "height": 0
        },
        "id": "C91QDW9gkG78",
        "outputId": "c37a721f-e4e9-41ee-dbe5-cec98f8091a4"
      },
      "outputs": [
        {
          "output_type": "stream",
          "name": "stdout",
          "text": [
            "Mounted at /content/drive\n"
          ]
        }
      ],
      "source": [
        "from sklearn import preprocessing # Biblioteca para suporte ao pré-processamento\n",
        "from sklearn.model_selection import train_test_split # Biblioteca para separação de amostras para treino e teste\n",
        "import matplotlib.pyplot as plt # Para visualizacao dos dados e do erro\n",
        "import numpy as np # Biblioteca de manipulacao de arrays Numpy\n",
        "from matplotlib.colors import ListedColormap # Lista de cores para plotagens\n",
        "import pandas as pd\n",
        "from google.colab import drive\n",
        "drive.mount('/content/drive') # Montando o Google Drive na mesma conta do Google Colab"
      ]
    },
    {
      "cell_type": "markdown",
      "source": [
        "Definição e Implementação da Classe Adaline"
      ],
      "metadata": {
        "id": "WEwaY-jyhR4X"
      }
    },
    {
      "cell_type": "code",
      "source": [
        "# Classe Adaline\n",
        "class Adaline:\n",
        "    # Construtor com informações setadas com o número de épocas máxima (epoch) e taxa de aprendizagem (eta)\n",
        "    def __init__(self, eta = 0.001, epoch = 1000, goal = 0.000001):\n",
        "        self.eta = eta # Taxa de aprendizagem, utilizada para impulsionar o movimento do hiperplano na separação de classes\n",
        "        self.epoch = epoch # Determinação máxima de épocas no ajuste da RNA\n",
        "        self.epochs = 0 # Contabilização do número de épocas no treinamento\n",
        "        self.errorsTests = 0 # Utilizado para contabilizar a quantidade de amostras classificadas incorretamente nos testes da rede já treinada\n",
        "        self.goal = goal # Definição do objetivo com parada definida no treinamento que é comparado com o cálculo do erro quadrático da época anterior com a atual\n",
        "\n",
        "    # Método para treinamento da rede\n",
        "    def fit(self, X, y):\n",
        "        # Inicialização dos pesos randomicamente - shape retorna a dimensão das entradas da RNA\n",
        "        self.weight_ = np.random.uniform(0, 1, X.shape[1] + 1)\n",
        "        self.error_ = []\n",
        "        self.mse_ = []\n",
        "        self.mse = 0\n",
        "        self.cost = 0\n",
        "        cont = 1\n",
        "\n",
        "        for _ in range(self.epoch):\n",
        "            # Obtenção da saída da rede baseada nos pesos sinápticos ajustados\n",
        "            output = self.activation_function(X) # Valor do u\n",
        "            # y é a saída desejada e output é a saída calculada, obtem-se um valor real\n",
        "            error = y - output # verificação do erro\n",
        "\n",
        "            # Ajuste do limiar de ativação\n",
        "            self.weight_[0] += self.eta * sum(error)\n",
        "            # Ajuste dos pesos sinápticos - Minimização do erro quadrático médio com a aplicação do gradiente do erro E(w)\n",
        "            self.weight_[1:] += self.eta * X.T.dot(error) # dot efetua a multiplicação de matrizes, T calcula a transposta de X para poder efetuar a multiplicação segundo a regra - https://acervolima.com/diferenca-entre-a-operacao-numpy-dot-e-em-python/\n",
        "\n",
        "            # Cálculo do erro quadrático E(w)\n",
        "            self.cost = 1./2 * sum((error**2))\n",
        "\n",
        "            # Armazena em mseP o mse da época anterior para poder comparar com o atual\n",
        "            mseP = self.mse\n",
        "\n",
        "            # Cálculo do erro quadrático médio mse(w) da época atual\n",
        "            self.mse = 1./X.shape[0] * sum((error**2))\n",
        "\n",
        "            # Atualização do número de épocas\n",
        "            self.epochs += 1\n",
        "\n",
        "            # Permite verificar a diferença do erro somente na segunda passagem\n",
        "            if self.epochs > 1:\n",
        "                # Verfica se a diferença entre o erro da época anterior com a atual é menor que o objetivo pré-determinado\n",
        "                if  mseP-self.mse < self.goal:\n",
        "                    break\n",
        "\n",
        "            # Armazena os erros quadráticos e os erros quadráticos médios em listas\n",
        "            self.error_.append(self.cost)\n",
        "            self.mse_.append(self.mse)\n",
        "\n",
        "        return self\n",
        "\n",
        "    def net_input(self, X):\n",
        "        # Calcula a entrada da rede por meio de um produto escalar (dot) dos valores de entrada com os pesos (Combinador Linear)\n",
        "        return np.dot(X, self.weight_[1:]) + self.weight_[0]\n",
        "\n",
        "    def activation_function(self, X):\n",
        "        # Função de ativação que recebe o retorno do cálculo do método net_input\n",
        "        return self.net_input(X)\n",
        "\n",
        "    def predict(self, X, y_d): # y_d = saída desejada utilizada para verificar a acurácia no teste\n",
        "        # Obtenção da saída calculada baseada no conjunto de entradas calculado com os pesos ajustados obtenção final pautada na função de ativação\n",
        "        y = np.where(self.activation_function(X) >= 0.0, 1, -1)\n",
        "\n",
        "        # Verificação se a amostra testada apresentou erro na classificação\n",
        "        if y != y_d:\n",
        "            self.errorsTests = self.errorsTests + 1\n",
        "            return 'Erro'\n",
        "        return 'Acerto'\n",
        "\n",
        "    def return_prediction(self, X):\n",
        "        # Retorna valor predito pela rede dada a entrada\n",
        "        return np.where(self.activation_function(X) >= 0.0, 1, -1)"
      ],
      "metadata": {
        "id": "DDYOZPY7hQRl"
      },
      "execution_count": 64,
      "outputs": []
    },
    {
      "cell_type": "markdown",
      "source": [
        "Carregamento do Dataset e Manipulação Inicial com Pandas e Numpy"
      ],
      "metadata": {
        "id": "Si_wEJ45hklC"
      }
    },
    {
      "cell_type": "code",
      "source": [
        "# Caminho do dataset no Google Drive que será carregado em df\n",
        "df = pd.read_csv(\"/content/drive/MyDrive/RNA_Datasets/valvulas.csv\", header=None)\n",
        "df_test = pd.read_csv(\"/content/drive/MyDrive/RNA_Datasets/valvulasTestes.csv\", header=None)\n",
        "\n",
        "# Separando a coluna da classe do dataset\n",
        "y_train = df.iloc[:, 4].values\n",
        "y_test = df_test.iloc[:, 4].values\n",
        "\n",
        "# Separando as colunas com as variáveis do dataset para determinar os inputs da RNA\n",
        "X_train = df.iloc[:, [0,1,2,3]].values\n",
        "X_test = df_test.iloc[:, [0,1,2,3]].values"
      ],
      "metadata": {
        "id": "b41vu7VNlI6R"
      },
      "execution_count": 65,
      "outputs": []
    },
    {
      "cell_type": "markdown",
      "source": [
        "Pré-Processamento para Normalizar os Dados e Separar Amostras para Treino e Teste"
      ],
      "metadata": {
        "id": "SsfvLkgsjt_b"
      }
    },
    {
      "cell_type": "code",
      "source": [
        "# Normalização dos dados sklearn - dados entre 0 e 1 - https://pt.linux-console.net/?p=5847\n",
        "scaler = preprocessing.MinMaxScaler()\n",
        "X_train = scaler.fit_transform(X_train)"
      ],
      "metadata": {
        "id": "CSQeGUxYjQk6"
      },
      "execution_count": 66,
      "outputs": []
    },
    {
      "cell_type": "markdown",
      "source": [
        "Treinamento da Rede Neural Artificial Adaline"
      ],
      "metadata": {
        "id": "2iusDO9ghwD9"
      }
    },
    {
      "cell_type": "code",
      "source": [
        "# Criando as fronteiras de decisão com Adaline\n",
        "rede = Adaline(eta = 0.001, epoch = 500, goal = 0.000001)\n",
        "rede.fit(X_train, y_train)"
      ],
      "metadata": {
        "colab": {
          "base_uri": "https://localhost:8080/",
          "height": 0
        },
        "id": "bnxvaPD6lREX",
        "outputId": "13e9523e-de6d-41d5-844a-90b73371dc58"
      },
      "execution_count": 67,
      "outputs": [
        {
          "output_type": "execute_result",
          "data": {
            "text/plain": [
              "<__main__.Adaline at 0x7a48bea340d0>"
            ]
          },
          "metadata": {},
          "execution_count": 67
        }
      ]
    },
    {
      "cell_type": "markdown",
      "source": [
        "Apresentação das Métricas do Processo de Treinamento e Validação"
      ],
      "metadata": {
        "id": "20AEl-TnizVM"
      }
    },
    {
      "cell_type": "code",
      "source": [
        "# Testando a rede em lote de amostras\n",
        "print(\"\\nClassificações dos testes com amostras não apresentadas no treinamento:\")\n",
        "\n",
        "# For entrada, saida in zip(X_test, y_test):\n",
        "nTests = len(y_test)\n",
        "for i in range(nTests):\n",
        "    rede.predict(X_test[i,:], y_test[i])\n",
        "\n",
        "print(\"Acurácia: \", (nTests-rede.errorsTests)/nTests*100, \"%\")\n",
        "print(\"Quantidade de erros no teste em lote: \", rede.errorsTests)\n",
        "print(\"Número de épocas do treinamento da RNA: \", rede.epochs)\n",
        "print(\"Erro quadrático médio final (MSE - Eqm(w)): \", rede.mse)\n",
        "print(\"Erro quadrático final (QE - E(w) - Custo): \", rede.cost)\n",
        "print(\"Vetor de pesos finais da RNA treinada - Limiar = \", rede.weight_[0], \"Pesos das entradas = \", rede.weight_[1:])"
      ],
      "metadata": {
        "colab": {
          "base_uri": "https://localhost:8080/",
          "height": 0
        },
        "id": "1ytg4JVTiqaA",
        "outputId": "f0e74f1b-93e4-421a-efd9-5804659ddda8"
      },
      "execution_count": 68,
      "outputs": [
        {
          "output_type": "stream",
          "name": "stdout",
          "text": [
            "\n",
            "Classificações dos testes com amostras não apresentadas no treinamento:\n",
            "Acurácia:  60.0 %\n",
            "Quantidade de erros no teste em lote:  6\n",
            "Número de épocas do treinamento da RNA:  500\n",
            "Erro quadrático médio final (MSE - Eqm(w)):  0.8254665323545536\n",
            "Erro quadrático final (QE - E(w) - Custo):  14.445664316204688\n",
            "Vetor de pesos finais da RNA treinada - Limiar =  -0.2544021119997015 Pesos das entradas =  [ 1.01656225  0.29869804 -0.02005786 -0.90391465]\n"
          ]
        }
      ]
    },
    {
      "cell_type": "markdown",
      "source": [
        "Teste de Amostras Isoladas no Modelo Treinado"
      ],
      "metadata": {
        "id": "TnXewkDTi62M"
      }
    },
    {
      "cell_type": "code",
      "source": [
        "for i in range(len(y_test)):\n",
        "  print(rede.return_prediction(X_test[i,:]))"
      ],
      "metadata": {
        "colab": {
          "base_uri": "https://localhost:8080/",
          "height": 0
        },
        "id": "Nbyw2j-l7HCd",
        "outputId": "2251ffa8-f8d6-48c4-f350-7d92bc7a484f"
      },
      "execution_count": 72,
      "outputs": [
        {
          "output_type": "stream",
          "name": "stdout",
          "text": [
            "-1\n",
            "-1\n",
            "-1\n",
            "-1\n",
            "-1\n",
            "-1\n",
            "-1\n",
            "-1\n",
            "-1\n",
            "-1\n",
            "-1\n",
            "-1\n",
            "-1\n",
            "-1\n",
            "1\n"
          ]
        }
      ]
    }
  ]
}